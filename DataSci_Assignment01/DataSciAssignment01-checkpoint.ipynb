{
 "cells": [
  {
   "cell_type": "code",
   "execution_count": 1,
   "id": "2a8aa916",
   "metadata": {},
   "outputs": [
    {
     "name": "stdout",
     "output_type": "stream",
     "text": [
      "Twinkle, twinkle, little star,\n",
      "\tHow I wonder what you are!\n",
      "\t\tUp above the world so high,\n",
      "\t\tLike a diamond in the sky.\n",
      "Twinkle, twinkle, little star,\n",
      "\tHow I wonder what you are\n"
     ]
    }
   ],
   "source": [
    "#  1. Write a Python program to print the following string in a specific format (see the output).\n",
    "print(\"Twinkle, twinkle, little star,\\n\\tHow I wonder what you are!\\n\\t\\tUp above the world so high,\\n\\t\\tLike a diamond in the sky.\\nTwinkle, twinkle, little star,\\n\\tHow I wonder what you are\");"
   ]
  },
  {
   "cell_type": "code",
   "execution_count": 2,
   "id": "d98e7c8d",
   "metadata": {},
   "outputs": [
    {
     "name": "stdout",
     "output_type": "stream",
     "text": [
      "Python version\n",
      "3.8.8 (default, Apr 13 2021, 15:08:03) [MSC v.1916 64 bit (AMD64)]\n"
     ]
    }
   ],
   "source": [
    "# 2. Write a Python program to get the Python version you are using\n",
    "import sys\n",
    "print(\"Python version\");\n",
    "print(sys.version);"
   ]
  },
  {
   "cell_type": "code",
   "execution_count": 4,
   "id": "88918311",
   "metadata": {},
   "outputs": [
    {
     "name": "stdout",
     "output_type": "stream",
     "text": [
      "Current date and time : \n",
      "2021-12-29 17:54:20\n"
     ]
    }
   ],
   "source": [
    "# 3. Write a Python program to display the current date and time.\n",
    "import datetime\n",
    "current = datetime.datetime.now();\n",
    "print (\"Current date and time : \");\n",
    "print (current.strftime(\"%Y-%m-%d %H:%M:%S\"));"
   ]
  },
  {
   "cell_type": "code",
   "execution_count": 5,
   "id": "604837f0",
   "metadata": {},
   "outputs": [
    {
     "name": "stdout",
     "output_type": "stream",
     "text": [
      "Enter radius of circle : 6\n",
      "Area of the circle is: 113.112\n"
     ]
    }
   ],
   "source": [
    "# 4. Write a Python program which accepts the radius of a circle from the user and compute the area.\n",
    "pi = 3.142;\n",
    "radius = float(input(\"Enter radius of circle : \"));\n",
    "print (\"Area of the circle is: \"+str(pi * radius**2));"
   ]
  },
  {
   "cell_type": "code",
   "execution_count": 6,
   "id": "c5f197b0",
   "metadata": {},
   "outputs": [
    {
     "name": "stdout",
     "output_type": "stream",
     "text": [
      "Input your First Name : sana\n",
      "Input your Last Name : bibi\n",
      "bibi sana\n"
     ]
    }
   ],
   "source": [
    "# 5.Write a Python program which accepts the user's first and last name and print them in reverse order with a space between them.\n",
    "firstName = input(\"Input your First Name : \")\n",
    "lastName = input(\"Input your Last Name : \")\n",
    "print (lastName + \" \" + firstName)"
   ]
  },
  {
   "cell_type": "code",
   "execution_count": 7,
   "id": "c3c1ebd2",
   "metadata": {},
   "outputs": [
    {
     "name": "stdout",
     "output_type": "stream",
     "text": [
      "enter first number : 7\n",
      "enter second number : 3\n",
      "addition of 7 and 3 is 10\n"
     ]
    }
   ],
   "source": [
    "# 6. Write a python program which takes two inputs from user and print them addition.\n",
    "x=int(input(\"enter first number : \"));\n",
    "y=int(input(\"enter second number : \"));\n",
    "print(\"addition of \"+str(x)+\" and \"+str(y)+\" is\",x+y);"
   ]
  },
  {
   "cell_type": "code",
   "execution_count": null,
   "id": "f3d6b4c9",
   "metadata": {},
   "outputs": [],
   "source": []
  }
 ],
 "metadata": {
  "kernelspec": {
   "display_name": "Python 3",
   "language": "python",
   "name": "python3"
  },
  "language_info": {
   "codemirror_mode": {
    "name": "ipython",
    "version": 3
   },
   "file_extension": ".py",
   "mimetype": "text/x-python",
   "name": "python",
   "nbconvert_exporter": "python",
   "pygments_lexer": "ipython3",
   "version": "3.8.8"
  }
 },
 "nbformat": 4,
 "nbformat_minor": 5
}
